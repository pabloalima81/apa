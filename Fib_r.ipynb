{
  "nbformat": 4,
  "nbformat_minor": 0,
  "metadata": {
    "colab": {
      "name": "Fib_r.ipynb",
      "provenance": [],
      "authorship_tag": "ABX9TyMh9ztBzXaO+xBZROMbqy5M",
      "include_colab_link": true
    },
    "kernelspec": {
      "name": "python3",
      "display_name": "Python 3"
    }
  },
  "cells": [
    {
      "cell_type": "markdown",
      "metadata": {
        "id": "view-in-github",
        "colab_type": "text"
      },
      "source": [
        "<a href=\"https://colab.research.google.com/github/pabloalima81/apa/blob/main/Fib_r.ipynb\" target=\"_parent\"><img src=\"https://colab.research.google.com/assets/colab-badge.svg\" alt=\"Open In Colab\"/></a>"
      ]
    },
    {
      "cell_type": "code",
      "metadata": {
        "id": "xFu4OYDzrTAt"
      },
      "source": [
        "# UNIVERSIDADE FEDERAL DO PAMPA\n",
        "# ENGENHARIA DE COMPUTAÇÃO\n",
        "# Profa Ana Paula Lüdtke Ferreira\n",
        "# Análise e Projeto de Algoritmos\n",
        "\n",
        "#Cálculo do tempo de execução da sequência de Fibonacci Recursivo"
      ],
      "execution_count": null,
      "outputs": []
    },
    {
      "cell_type": "code",
      "metadata": {
        "id": "LWTh7r3Vi3RD"
      },
      "source": [
        "#Importação de Bibliotecas\n",
        "import time"
      ],
      "execution_count": null,
      "outputs": []
    },
    {
      "cell_type": "code",
      "metadata": {
        "colab": {
          "base_uri": "https://localhost:8080/"
        },
        "id": "FKrwjSiUyiRo",
        "outputId": "e3c1b1de-abb9-4ea4-b19a-d76b6b8cc6ed"
      },
      "source": [
        "def inicial():\n",
        "    n = int(input('Digite o termo: '))\n",
        "\n",
        "    for val in range(1,n+1):\n",
        "        inicial = time.time()\n",
        "        print(val ,\";\", Fib_R(val),\";\",time.time() - inicial)     \n",
        "inicial()"
      ],
      "execution_count": null,
      "outputs": [
        {
          "output_type": "stream",
          "text": [
            "Digite o termo: 100\n",
            "1 ; 0 ; 2.86102294921875e-06\n",
            "2 ; 1 ; 1.9073486328125e-06\n",
            "3 ; 1 ; 2.6226043701171875e-06\n",
            "4 ; 2 ; 1.9073486328125e-06\n",
            "5 ; 3 ; 3.337860107421875e-06\n",
            "6 ; 5 ; 3.337860107421875e-06\n",
            "7 ; 8 ; 5.0067901611328125e-06\n",
            "8 ; 13 ; 6.67572021484375e-06\n",
            "9 ; 21 ; 9.5367431640625e-06\n",
            "10 ; 34 ; 2.6941299438476562e-05\n",
            "11 ; 55 ; 3.8623809814453125e-05\n",
            "12 ; 89 ; 6.461143493652344e-05\n",
            "13 ; 144 ; 0.00010204315185546875\n",
            "14 ; 233 ; 0.0001304149627685547\n",
            "15 ; 377 ; 0.0003082752227783203\n",
            "16 ; 610 ; 0.0002646446228027344\n",
            "17 ; 987 ; 0.0004112720489501953\n",
            "18 ; 1597 ; 0.0007684230804443359\n",
            "19 ; 2584 ; 0.001207113265991211\n",
            "20 ; 4181 ; 0.0016934871673583984\n",
            "21 ; 6765 ; 0.0030219554901123047\n",
            "22 ; 10946 ; 0.0044193267822265625\n",
            "23 ; 17711 ; 0.007200717926025391\n",
            "24 ; 28657 ; 0.01168060302734375\n",
            "25 ; 46368 ; 0.019951820373535156\n",
            "26 ; 75025 ; 0.03205108642578125\n",
            "27 ; 121393 ; 0.04910087585449219\n",
            "28 ; 196418 ; 0.08310937881469727\n",
            "29 ; 317811 ; 0.1334855556488037\n",
            "30 ; 514229 ; 0.21417927742004395\n",
            "31 ; 832040 ; 0.3406076431274414\n",
            "32 ; 1346269 ; 0.533287763595581\n",
            "33 ; 2178309 ; 0.9009740352630615\n",
            "34 ; 3524578 ; 1.4247839450836182\n",
            "35 ; 5702887 ; 2.2565858364105225\n",
            "36 ; 9227465 ; 3.664154529571533\n",
            "37 ; 14930352 ; 5.877460956573486\n",
            "38 ; 24157817 ; 9.477581262588501\n",
            "39 ; 39088169 ; 15.344718217849731\n",
            "40 ; 63245986 ; 24.94257092475891\n",
            "41 ; 102334155 ; 40.378936767578125\n",
            "42 ; 165580141 ; 65.40036416053772\n",
            "43 ; 267914296 ; 106.17355966567993\n",
            "44 ; 433494437 ; 171.63938975334167\n",
            "45 ; 701408733 ; 277.9832684993744\n",
            "46 ; 1134903170 ; 449.41960620880127\n",
            "47 ; 1836311903 ; 727.6286461353302\n",
            "48 ; 2971215073 ; 1174.6340539455414\n",
            "49 ; 4807526976 ; 1902.1851243972778\n",
            "50 ; 7778742049 ; 3082.3780450820923\n",
            "51 ; 12586269025 ; 4996.280445098877\n",
            "52 ; 20365011074 ; 8079.804339170456\n",
            "53 ; 32951280099 ; 13100.817738294601\n"
          ],
          "name": "stdout"
        }
      ]
    },
    {
      "cell_type": "code",
      "metadata": {
        "id": "4yGaYIlmxqvC"
      },
      "source": [
        "def Fib_R(n):\n",
        "    if n==1:\n",
        "        return 0\n",
        "    elif n==2:\n",
        "        return 1\n",
        "    else:\n",
        "        return Fib_R(n-1) + Fib_R(n-2)"
      ],
      "execution_count": null,
      "outputs": []
    }
  ]
}